{
 "cells": [
  {
   "cell_type": "markdown",
   "id": "1bb1adc4-d982-4292-8d7b-dc2e9022185a",
   "metadata": {},
   "source": [
    "<br>\n",
    "<img src=\"data/logoMoSEF.jpeg\" width=90px align=\"left\">\n",
    "<div align=\"right\">Enseignant : Amed Coulibaly</div>\n",
    "<div align=\"right\">Réalisé par : Gaoussou DIAKITE et Eunice KOFFI</div>\n",
    "<div align=\"right\">Année : 2022/2023</div><br><br><br>\n",
    "<div align=\"center\"><span style=\"font-family:Lucida Caligraphy;font-size:32px;color:darkgreen\">Master 2 Modélistaion Statistiques Economiques et Financières</span></div><br>\n",
    "<div align=\"center\"><span style=\"font-family:Lucida Caligraphy;font-size:28px;color:#e60000\">Projet Data Mining</span></div><br><br>\n",
    "<hr>\n",
    "\n",
    "<br>\n",
    "\n",
    "<div align=\"center\"><span style=\"font-family:Lucida Caligraphy;font-size:32px;color:darkgreen\">Table des matières générale et résumé du projet</span></div><br>\n",
    "<hr>"
   ]
  },
  {
   "cell_type": "markdown",
   "id": "ac70192a-3f21-4ab0-a061-f0717401e2e5",
   "metadata": {},
   "source": [
    "<div style=\"border-bottom:solid #e60000\">\n",
    "<h1>1. Analyse exploratoire des données</h1>\n",
    "</div>"
   ]
  },
  {
   "cell_type": "markdown",
   "id": "421e6adf-c65a-454c-85d9-1950aade3b19",
   "metadata": {},
   "source": [
    "<div style=\"margin-left:30px\">\n",
    "    <p>\n",
    "Dans cette partie, nous analysons brièvement nos bases de données pour mieux les comprendre. Nous effectuons tous les traitements sur la base de données relatives au nettoyage depuis l'importation jusqu'à l'exportation d'une base de données propre prête à être utilisée.\n",
    "    <ul>\n",
    "        <li><a href=\"1. Analyse exploratoire.ipynb\">Visualisez-la ici</a></li>\n",
    "    </ul>\n",
    "    <p/>\n",
    "</div>"
   ]
  },
  {
   "cell_type": "markdown",
   "id": "d67e656c-aa49-497e-8363-6b9913b6f356",
   "metadata": {},
   "source": [
    "<div style=\"border-bottom:solid #e60000\">\n",
    "<h1>2. ACP</h1>\n",
    "</div>"
   ]
  },
  {
   "cell_type": "markdown",
   "id": "8ef8d2f6-ba2c-4f7b-9b7d-3cc4b4a1195d",
   "metadata": {},
   "source": [
    "<div style=\"margin-left:30px\">\n",
    "    <p>\n",
    "Dans un jeu de données avec beaucoup de variables, une réduction de dimensions est nécessaire pour bien visualiser les données dans un espace de dimensions réduit. Les axes choisis, des combinaisons des variables initiales, sont construites en essayant de décorréler les variables entre elles mais aussi conserver la distance entre les individus.\n",
    "    <ul>\n",
    "        <li><a href=\"2. Analyse en Composante Principale.ipynb\">Visualisez-la ici</a></li>\n",
    "    </ul>\n",
    "    <p/>\n",
    "</div>"
   ]
  },
  {
   "cell_type": "markdown",
   "id": "14ee8408-9433-494b-b8d3-78ed4194d9ee",
   "metadata": {},
   "source": [
    "<div style=\"border-bottom:solid #e60000\">\n",
    "<h1>3. Clustering</h1>\n",
    "</div>"
   ]
  },
  {
   "cell_type": "markdown",
   "id": "a33f22b9-7a24-4cd1-b0f9-39441fbd09e2",
   "metadata": {},
   "source": [
    "<div style=\"margin-left:30px\">\n",
    "    <p>\n",
    "Nous voulons regrouper les individus en classes de sorte à analyser les similarités entre eux. Ces classes nous permettront d'analyser les variables qui caractérisent les différentes partitions. Les classes sont construites de sorte à ce que les individus d'une calsse se ressemblent d'un point de vue de la distance euclidienne et que deux individus dans deux classes différentes ne se ressemblent pas. Nous avons choisi pour notre jeu de données d'effectuer un Kmeans.\n",
    "    <ul>\n",
    "        <li><a href=\"3. Clustering.ipynb\">Visualisez-la ici</a></li>\n",
    "    </ul>\n",
    "    <p/>\n",
    "</div>"
   ]
  },
  {
   "cell_type": "markdown",
   "id": "aff8547c-35b9-4320-9805-f9020681fa45",
   "metadata": {},
   "source": [
    "<div style=\"border-bottom:solid #e60000\">\n",
    "<h1>4. Machine Learning</h1>\n",
    "</div>"
   ]
  },
  {
   "cell_type": "markdown",
   "id": "5a37a3b1-4a64-40ae-b129-844436fd7607",
   "metadata": {},
   "source": [
    "<div style=\"margin-left:30px\">\n",
    "    <p>\n",
    "Cette étape consiste en la prédiction de la consommation d'électricité des communes dans l'agriculture, dans l'industrie et dans le résidentiel. Nous allons donc implémenter des modèles en allant des plus basiques aux plus complexes et faire notre choix selon des critères de parcimonie, de performance et d'interprétabilité.\n",
    "    <ul>\n",
    "        <li><a href=\"4. Machine Learning.ipynb\">Visualisez-la ici</a></li>\n",
    "    </ul>\n",
    "    <p/>\n",
    "</div>"
   ]
  },
  {
   "cell_type": "markdown",
   "id": "e58db3e6-233d-44f1-a93b-3106e704a0e2",
   "metadata": {},
   "source": [
    "<div style=\"border-bottom:solid #e60000\">\n",
    "<h1>Annexes</h1>\n",
    "</div>"
   ]
  },
  {
   "cell_type": "markdown",
   "id": "ef8b2263-3c37-4918-8c08-45ed18b6c9d4",
   "metadata": {},
   "source": [
    "<div style=\"margin-left:30px;border-bottom:solid 1px\">\n",
    "    <ol>\n",
    "        <li><a href=\"Constitution de la base de données.ipynb\">Lexique des bases de données</a></li>\n",
    "        <li><a href=\"data/Note - Consommation annuelle d’électricité et de gaz par commune et par secteur dactivité v5.0.pdf\">Documentation de la base consommation</a></li>\n",
    "    </ol>\n",
    "</div>"
   ]
  }
 ],
 "metadata": {
  "kernelspec": {
   "display_name": "Python 3 (ipykernel)",
   "language": "python",
   "name": "python3"
  },
  "language_info": {
   "codemirror_mode": {
    "name": "ipython",
    "version": 3
   },
   "file_extension": ".py",
   "mimetype": "text/x-python",
   "name": "python",
   "nbconvert_exporter": "python",
   "pygments_lexer": "ipython3",
   "version": "3.9.13"
  }
 },
 "nbformat": 4,
 "nbformat_minor": 5
}
