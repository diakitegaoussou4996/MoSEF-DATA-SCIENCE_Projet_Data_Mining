{
 "cells": [
  {
   "cell_type": "markdown",
   "id": "f8367bf8-4442-4863-bcb8-edbff52d0ef8",
   "metadata": {},
   "source": [
    "<br>\n",
    "<img src=\"data/logoMoSEF.jpeg\" width=90px align=\"left\">\n",
    "<div align=\"right\">Enseignant : Amed Coulibaly</div>\n",
    "<div align=\"right\">Réalisé par : Gaoussou DIAKITE et Eunice KOFFI</div>\n",
    "<div align=\"right\">Année : 2022/2023</div><br><br><br>\n",
    "<div align=\"center\"><span style=\"font-family:Lucida Caligraphy;font-size:32px;color:darkgreen\">Master 2 Modélistaion Statistiques Economiques et Financières</span></div><br>\n",
    "<div align=\"center\"><span style=\"font-family:Lucida Caligraphy;font-size:28px;color:#e60000\">Projet Data Mining</span></div><br><br>\n",
    "<hr>\n",
    "\n",
    "<br>\n",
    "\n",
    "<div align=\"center\"><span style=\"font-family:Lucida Caligraphy;font-size:32px;color:darkgreen\">Description des bases de données</span></div><br>\n",
    "<hr>"
   ]
  },
  {
   "cell_type": "markdown",
   "id": "487f288c-86fe-417a-9244-4479fcd224da",
   "metadata": {},
   "source": [
    "# base-cc-tourisme-2022-geo2022.csv"
   ]
  },
  {
   "cell_type": "markdown",
   "id": "b824f4e3-425e-4cd1-8ca2-0cf700f8acee",
   "metadata": {},
   "source": [
    "<p>Le jeu de données comporte 52 colonnes :<br>\n",
    "• <b>CODGEO</b>: Code du département<br><br>\n",
    "• <b>HT22</b>  : Nombre d'hôtels en 2022<br>\n",
    "• <b>HT022</b> : Nombre d'hôtels non classés en 2022<br>\n",
    "• <b>HT122</b> : Nombre d'hôtels classés 1 étoile en 2022<br>\n",
    "• <b>HT222</b> : Nombre d'hôtels classés 2 étoiles en 2022<br>\n",
    "• <b>HT322</b> : Nombre d'hôtels classés 3 étoiles en 2022<br>\n",
    "• <b>HT422</b> : Nombre d'hôtels classés 4 étoiles en 2022<br>\n",
    "• <b>HT522</b> : Nombre d'hôtels classés 5 étoiles en 2022<br><br>\n",
    "• <b>HTCH22</b> : Nombre de chambres dans les hôtels en 2022<br>\n",
    "• <b>HTCH022</b> : Nombre de chambres dans les hôtels non classés en 2022<br>\n",
    "• <b>HTCH122</b> : Nombre de chambres dans les hôtels classés 1 étoile en 2022<br>\n",
    "• <b>HTCH222</b> : Nombre de chambres dans les hôtels classés 2 étoiles en 2022<br>\n",
    "• <b>HTCH322</b>  : Nombre de chambres dans les hôtels classés 3 étoiles en 2022<br>\n",
    "• <b>HTCH422</b>  : Nombre de chambres dans les hôtels classés 4 étoiles en 2022<br>\n",
    "• <b>HTCH522</b>: Nombre de chambres dans les hôtels classés 5 étoile en 2022<br><br>\n",
    "• <b>CPG22</b>: Nombre de terrains de campings en 2022<br>\n",
    "• <b>CPG022</b> : Nombre de terrains de campings non classés en 2022<br>\n",
    "• <b>CPG122</b>: Nombre de terrains de campings classés 1 étoile en 2022<br>\n",
    "• <b>CPG222</b>: Nombre de terrains de campings classés 2 étoiles en 2022<br>\n",
    "• <b>CPG322</b>: Nombre de terrains de campings classés 3 étoiles en 2022<br>\n",
    "• <b>CPG422</b> : Nombre de terrains de campings classés 4 étoiles en 2022<br>\n",
    "• <b>CPG522</b> : Nombre de terrains de campings classés 5 étoiles en 2022<br><br>\n",
    "• <b>CPGE22</b> : Nombre d'emplacements de campings en 2022<br>\n",
    "• <b>CPGE022</b> : Nombre d'emplacements de campings non classés en 2022<br>\n",
    "• <b>CPGE122</b> : Nombre d'emplacements de campings classés 1 étoile en 2022<br>\n",
    "• <b>CPGE222</b>  : Nombre d'emplacements de campings classés 2 étoiles en 2022<br>\n",
    "• <b>CPGE322</b>  : Nombre d'emplacements de campings classés 3 étoiles en 2022<br>\n",
    "• <b>CPGE422</b>: Nombre d'emplacements de campings classés 4 étoiles en 2022<br>\n",
    "• <b>CPGE522</b>: Nombre d'emplacements de campings classés 5 étoiles en 2022<br><br>\n",
    "• <b>CPGEL22</b> : Nombre total d'emplacements loués à l'année en 2022<br>\n",
    "• <b>CPGEL022</b>: Nombre total d'emplacements loués à l'année campings non classés en 2022<br>\n",
    "• <b>CPGEL122</b>: Nombre total d'emplacements loués à l'année campings classés 1 étoile en 2022<br>\n",
    "• <b>CPGEL222</b>: Nombre total d'emplacements loués à l'année campings classés 2 étoiles en 2022<br>\n",
    "• <b>CPGEL322</b> : Nombre total d'emplacements loués à l'année campings classés 3 étoiles en 2022<br>\n",
    "• <b>CPGEL422</b> : Nombre total d'emplacements loués à l'année campings classés 4 étoiles en 2022<br>\n",
    "• <b>CPGEL522</b> : Nombre total d'emplacements loués à l'année campings classés 5 étoiles en 2022<br><br>\n",
    "• <b>CPGEO22</b> : Nombre total d'emplacements offerts à la clientèle de passage dans les  campings en 2022<br>\n",
    "• <b>CPGEO022</b> : Nombre total d'emplacements offerts à la clientèle de passage dans les  campings non classés en 2022<br>\n",
    "• <b>CPGEO122</b>  : Nombre total d'emplacements offerts à la clientèle de passage dans les  campings classés 1 étoile en 2022<br>\n",
    "• <b>CPGEO222</b>  : Nombre total d'emplacements offerts à la clientèle de passage dans les  campings classés 2 étoiles en 2022<br>\n",
    "• <b>CPGEO322</b>: Nombre total d'emplacements offerts à la clientèle de passage dans les  campings classés 3 étoiles en 2022<br>\n",
    "• <b>CPGEO422</b>: Nombre total d'emplacements offerts à la clientèle de passage dans les  campings classés 4 étoiles en 2022<br>\n",
    "• <b>CPGEO522</b> : Nombre total d'emplacements offerts à la clientèle de passage dans les  campings classés 5 étoiles en 2022<br><br>\n",
    "• <b>VV22</b>: Nombre de village vacances-Maisons familiales en 2022<br>\n",
    "• <b>VVUH22</b>: Nombre total d'unités d'hébergement dans les villages vacances-Maisons familiales en 2022<br>\n",
    "• <b>VVLIT22</b>: Nombre total de places lit dans les villages vacances-Maisons familiales en 2022<br><br>\n",
    "• <b>RT22</b> : Nombre de résidence de tourisme et hébergement assimilés en 2022<br>\n",
    "• <b>RTUH22</b> : Nombre total d'unités d'hébergement dans les résidences de tourisme et hébergement assimilés en 2022<br>\n",
    "• <b>RTLIT22</b> : Nombre total de places de lit dans les résidences de tourisme et hébergement assimilés en 2022<br><br>\n",
    "• <b>AJCS22</b> : Nombre d'auberges de jeunesse - Centres internationaux de séjour et centres sportifs en 2022<br>\n",
    "• <b>AJCSUH22</b> : Nombre total d'unités d'hébergements dans les auberges de jeunesse - Centres internationaux de séjour et centres sportifs en 2022<br>\n",
    "• <b>AJCSLIT22</b> : Nombre total de places de lit dans les auberges de jeunesse - Centres internationaux de séjour et centres sportifs en 2022<br>"
   ]
  },
  {
   "cell_type": "markdown",
   "id": "ddbf09a6-e98d-4e56-99aa-dd4fb0b8f74b",
   "metadata": {},
   "source": [
    "# base-pop-historiques-1876-2019.xlsx"
   ]
  },
  {
   "cell_type": "markdown",
   "id": "b71205b5-79c7-4c0d-93af-1d0c1ba73c70",
   "metadata": {},
   "source": [
    "<p>Le jeu de données comporte 37 colonnes :<br>\n",
    "• <b>CODGEO</b>    : Code du département<br><br>\n",
    "• <b>REG</b>       : Code de la région<br>\n",
    "• <b>DEP</b>       : Code du département<br>\n",
    "• <b>LIBGEO</b>    : Libellé géographique<br><br>\n",
    "• <b>PMUN19</b>    : Population municipale en 2019<br>\n",
    "• <b>PMUN18</b>    : Population municipale en 2018<br>\n",
    "• <b>PMUN17</b>    : Population municipale en 2017<br>\n",
    "• <b>PMUN16</b>    : Population municipale en 2016<br>\n",
    "• <b>PMUN15</b>    : Population municipale en 2015<br>\n",
    "• <b>PMUN14</b>    : Population municipale en 2014<br>\n",
    "• <b>PMUN13</b>    : Population municipale en 2013<br>\n",
    "• <b>PMUN12</b>    : Population municipale en 2012<br>\n",
    "• <b>PMUN11</b>    : Population municipale en 2011<br>\n",
    "• <b>PMUN10</b>    : Population municipale en 2010<br>\n",
    "• <b>PMUN09</b>    : Population municipale en 2009<br>\n",
    "• <b>PMUN08</b>    : Population municipale en 2008<br>\n",
    "• <b>PMUN07</b>    : Population municipale en 2007<br>\n",
    "• <b>PMUN06</b>    : Population municipale en 2006<br><br>\n",
    "• <b>PSDC99</b>    : Population sans double compte en 1999<br>\n",
    "• <b>PSDC90</b>    : Population sans double compte en 1990<br>\n",
    "• <b>PSDC82</b>    : Population sans double compte en 1982<br>\n",
    "• <b>PSDC75</b>    : Population sans double compte en 1975<br>\n",
    "• <b>PSDC68</b>    : Population sans double compte en 1968<br>\n",
    "• <b>PSDC62</b>    : Population sans double compte en 1962<br><br>\n",
    "• <b>PTOT54</b>    : Population totale en 1954<br>\n",
    "• <b>PTOT36</b>    : Population totale en 1936<br>\n",
    "• <b>PTOT1931</b>  : Population totale en 1931<br>\n",
    "• <b>PTOT1926</b>  : Population totale en 1926<br>\n",
    "• <b>PTOT1921</b>  : Population totale en 1921<br>\n",
    "• <b>PTOT1911</b>  : Population totale en 1911<br>\n",
    "• <b>PTOT1906</b>  : Population totale en 1906<br>\n",
    "• <b>PTOT1901</b>  : Population totale en 1901<br>\n",
    "• <b>PTOT1896</b>  : Population totale en 1896<br>\n",
    "• <b>PTOT1891</b>  : Population totale en 1891<br>\n",
    "• <b>PTOT1886</b>  : Population totale en 1886<br>\n",
    "• <b>PTOT1881</b>  : Population totale en 1881<br>\n",
    "• <b>PTOT1876</b>  : Population totale en 1876<br>"
   ]
  }
 ],
 "metadata": {
  "kernelspec": {
   "display_name": "Python 3 (ipykernel)",
   "language": "python",
   "name": "python3"
  },
  "language_info": {
   "codemirror_mode": {
    "name": "ipython",
    "version": 3
   },
   "file_extension": ".py",
   "mimetype": "text/x-python",
   "name": "python",
   "nbconvert_exporter": "python",
   "pygments_lexer": "ipython3",
   "version": "3.9.12"
  }
 },
 "nbformat": 4,
 "nbformat_minor": 5
}
